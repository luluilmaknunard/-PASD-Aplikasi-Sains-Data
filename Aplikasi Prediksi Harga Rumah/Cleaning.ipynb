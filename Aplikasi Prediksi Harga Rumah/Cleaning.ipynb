{
  "nbformat": 4,
  "nbformat_minor": 0,
  "metadata": {
    "colab": {
      "provenance": []
    },
    "kernelspec": {
      "name": "python3",
      "display_name": "Python 3"
    },
    "language_info": {
      "name": "python"
    }
  },
  "cells": [
    {
      "cell_type": "markdown",
      "source": [
        "# Cleaning"
      ],
      "metadata": {
        "id": "t234wJhq-wV0"
      }
    },
    {
      "cell_type": "code",
      "execution_count": 20,
      "metadata": {
        "colab": {
          "base_uri": "https://localhost:8080/",
          "height": 109
        },
        "id": "Ta0mkLhB9q5E",
        "outputId": "b8c22c5b-fc68-480e-b7b1-8ca9da6298e0"
      },
      "outputs": [
        {
          "output_type": "display_data",
          "data": {
            "text/plain": [
              "<IPython.core.display.HTML object>"
            ],
            "text/html": [
              "\n",
              "     <input type=\"file\" id=\"files-9c229ef3-9053-4c87-8f7b-f61a38882858\" name=\"files[]\" multiple disabled\n",
              "        style=\"border:none\" />\n",
              "     <output id=\"result-9c229ef3-9053-4c87-8f7b-f61a38882858\">\n",
              "      Upload widget is only available when the cell has been executed in the\n",
              "      current browser session. Please rerun this cell to enable.\n",
              "      </output>\n",
              "      <script>// Copyright 2017 Google LLC\n",
              "//\n",
              "// Licensed under the Apache License, Version 2.0 (the \"License\");\n",
              "// you may not use this file except in compliance with the License.\n",
              "// You may obtain a copy of the License at\n",
              "//\n",
              "//      http://www.apache.org/licenses/LICENSE-2.0\n",
              "//\n",
              "// Unless required by applicable law or agreed to in writing, software\n",
              "// distributed under the License is distributed on an \"AS IS\" BASIS,\n",
              "// WITHOUT WARRANTIES OR CONDITIONS OF ANY KIND, either express or implied.\n",
              "// See the License for the specific language governing permissions and\n",
              "// limitations under the License.\n",
              "\n",
              "/**\n",
              " * @fileoverview Helpers for google.colab Python module.\n",
              " */\n",
              "(function(scope) {\n",
              "function span(text, styleAttributes = {}) {\n",
              "  const element = document.createElement('span');\n",
              "  element.textContent = text;\n",
              "  for (const key of Object.keys(styleAttributes)) {\n",
              "    element.style[key] = styleAttributes[key];\n",
              "  }\n",
              "  return element;\n",
              "}\n",
              "\n",
              "// Max number of bytes which will be uploaded at a time.\n",
              "const MAX_PAYLOAD_SIZE = 100 * 1024;\n",
              "\n",
              "function _uploadFiles(inputId, outputId) {\n",
              "  const steps = uploadFilesStep(inputId, outputId);\n",
              "  const outputElement = document.getElementById(outputId);\n",
              "  // Cache steps on the outputElement to make it available for the next call\n",
              "  // to uploadFilesContinue from Python.\n",
              "  outputElement.steps = steps;\n",
              "\n",
              "  return _uploadFilesContinue(outputId);\n",
              "}\n",
              "\n",
              "// This is roughly an async generator (not supported in the browser yet),\n",
              "// where there are multiple asynchronous steps and the Python side is going\n",
              "// to poll for completion of each step.\n",
              "// This uses a Promise to block the python side on completion of each step,\n",
              "// then passes the result of the previous step as the input to the next step.\n",
              "function _uploadFilesContinue(outputId) {\n",
              "  const outputElement = document.getElementById(outputId);\n",
              "  const steps = outputElement.steps;\n",
              "\n",
              "  const next = steps.next(outputElement.lastPromiseValue);\n",
              "  return Promise.resolve(next.value.promise).then((value) => {\n",
              "    // Cache the last promise value to make it available to the next\n",
              "    // step of the generator.\n",
              "    outputElement.lastPromiseValue = value;\n",
              "    return next.value.response;\n",
              "  });\n",
              "}\n",
              "\n",
              "/**\n",
              " * Generator function which is called between each async step of the upload\n",
              " * process.\n",
              " * @param {string} inputId Element ID of the input file picker element.\n",
              " * @param {string} outputId Element ID of the output display.\n",
              " * @return {!Iterable<!Object>} Iterable of next steps.\n",
              " */\n",
              "function* uploadFilesStep(inputId, outputId) {\n",
              "  const inputElement = document.getElementById(inputId);\n",
              "  inputElement.disabled = false;\n",
              "\n",
              "  const outputElement = document.getElementById(outputId);\n",
              "  outputElement.innerHTML = '';\n",
              "\n",
              "  const pickedPromise = new Promise((resolve) => {\n",
              "    inputElement.addEventListener('change', (e) => {\n",
              "      resolve(e.target.files);\n",
              "    });\n",
              "  });\n",
              "\n",
              "  const cancel = document.createElement('button');\n",
              "  inputElement.parentElement.appendChild(cancel);\n",
              "  cancel.textContent = 'Cancel upload';\n",
              "  const cancelPromise = new Promise((resolve) => {\n",
              "    cancel.onclick = () => {\n",
              "      resolve(null);\n",
              "    };\n",
              "  });\n",
              "\n",
              "  // Wait for the user to pick the files.\n",
              "  const files = yield {\n",
              "    promise: Promise.race([pickedPromise, cancelPromise]),\n",
              "    response: {\n",
              "      action: 'starting',\n",
              "    }\n",
              "  };\n",
              "\n",
              "  cancel.remove();\n",
              "\n",
              "  // Disable the input element since further picks are not allowed.\n",
              "  inputElement.disabled = true;\n",
              "\n",
              "  if (!files) {\n",
              "    return {\n",
              "      response: {\n",
              "        action: 'complete',\n",
              "      }\n",
              "    };\n",
              "  }\n",
              "\n",
              "  for (const file of files) {\n",
              "    const li = document.createElement('li');\n",
              "    li.append(span(file.name, {fontWeight: 'bold'}));\n",
              "    li.append(span(\n",
              "        `(${file.type || 'n/a'}) - ${file.size} bytes, ` +\n",
              "        `last modified: ${\n",
              "            file.lastModifiedDate ? file.lastModifiedDate.toLocaleDateString() :\n",
              "                                    'n/a'} - `));\n",
              "    const percent = span('0% done');\n",
              "    li.appendChild(percent);\n",
              "\n",
              "    outputElement.appendChild(li);\n",
              "\n",
              "    const fileDataPromise = new Promise((resolve) => {\n",
              "      const reader = new FileReader();\n",
              "      reader.onload = (e) => {\n",
              "        resolve(e.target.result);\n",
              "      };\n",
              "      reader.readAsArrayBuffer(file);\n",
              "    });\n",
              "    // Wait for the data to be ready.\n",
              "    let fileData = yield {\n",
              "      promise: fileDataPromise,\n",
              "      response: {\n",
              "        action: 'continue',\n",
              "      }\n",
              "    };\n",
              "\n",
              "    // Use a chunked sending to avoid message size limits. See b/62115660.\n",
              "    let position = 0;\n",
              "    do {\n",
              "      const length = Math.min(fileData.byteLength - position, MAX_PAYLOAD_SIZE);\n",
              "      const chunk = new Uint8Array(fileData, position, length);\n",
              "      position += length;\n",
              "\n",
              "      const base64 = btoa(String.fromCharCode.apply(null, chunk));\n",
              "      yield {\n",
              "        response: {\n",
              "          action: 'append',\n",
              "          file: file.name,\n",
              "          data: base64,\n",
              "        },\n",
              "      };\n",
              "\n",
              "      let percentDone = fileData.byteLength === 0 ?\n",
              "          100 :\n",
              "          Math.round((position / fileData.byteLength) * 100);\n",
              "      percent.textContent = `${percentDone}% done`;\n",
              "\n",
              "    } while (position < fileData.byteLength);\n",
              "  }\n",
              "\n",
              "  // All done.\n",
              "  yield {\n",
              "    response: {\n",
              "      action: 'complete',\n",
              "    }\n",
              "  };\n",
              "}\n",
              "\n",
              "scope.google = scope.google || {};\n",
              "scope.google.colab = scope.google.colab || {};\n",
              "scope.google.colab._files = {\n",
              "  _uploadFiles,\n",
              "  _uploadFilesContinue,\n",
              "};\n",
              "})(self);\n",
              "</script> "
            ]
          },
          "metadata": {}
        },
        {
          "output_type": "stream",
          "name": "stdout",
          "text": [
            "Saving HARGA RUMAH JAKSEL.xlsx to HARGA RUMAH JAKSEL (6).xlsx\n",
            "['HARGA RUMAH JAKSEL (6).xlsx']\n"
          ]
        }
      ],
      "source": [
        "import pandas as pd\n",
        "from google.colab import files\n",
        "data = files.upload()\n",
        "\n",
        "print(list(data.keys()))"
      ]
    },
    {
      "cell_type": "markdown",
      "source": [
        "**1. Mengganti nama kolom**"
      ],
      "metadata": {
        "id": "kXwyhkjiJjJL"
      }
    },
    {
      "cell_type": "code",
      "source": [
        "import pandas as pd\n",
        "data = pd.read_excel(file_path, header=0)\n",
        "\n",
        "# Mengganti nama kolom dengan nama yang lebih deskriptif\n",
        "data.columns = [\"Harga\", \"LuasTanah\", \"LuasBangunan\", \"JumlahKamarTidur\", \"JumlahKamarMandi\", \"Garasi\", \"Kota\"]\n",
        "data = data.drop(index=0)\n",
        "\n",
        "# Memeriksa hasil setelah penggantian nama kolom\n",
        "print(data.head())"
      ],
      "metadata": {
        "colab": {
          "base_uri": "https://localhost:8080/"
        },
        "id": "X4JzmkWUIOTe",
        "outputId": "830ddcbc-9b57-4de8-a735-090fa2365aba"
      },
      "execution_count": 33,
      "outputs": [
        {
          "output_type": "stream",
          "name": "stdout",
          "text": [
            "         Harga LuasTanah LuasBangunan JumlahKamarTidur JumlahKamarMandi  \\\n",
            "1  28000000000      1100          700                5                6   \n",
            "2  19000000000       824          800                4                4   \n",
            "3   4700000000       500          400                4                3   \n",
            "4   4900000000       251          300                5                4   \n",
            "5  28000000000      1340          575                4                5   \n",
            "\n",
            "  Garasi    Kota  \n",
            "1    ADA  JAKSEL  \n",
            "2    ADA  JAKSEL  \n",
            "3    ADA  JAKSEL  \n",
            "4    ADA  JAKSEL  \n",
            "5    ADA  JAKSEL  \n"
          ]
        }
      ]
    },
    {
      "cell_type": "markdown",
      "source": [
        "**2. Delete data null**"
      ],
      "metadata": {
        "id": "d-YXxYV0Jd0j"
      }
    },
    {
      "cell_type": "code",
      "source": [
        "def remove_nulls(data, columns):\n",
        "    for column in columns:\n",
        "        data = data[data[column].notnull()]\n",
        "    return data\n",
        "\n",
        "# Penggunaan:\n",
        "columns_to_check = [\n",
        "    \"Harga\", \"LuasTanah\", \"LuasBangunan\", \"JumlahKamarTidur\", \"JumlahKamarMandi\", \"Garasi\", \"Kota\"\n",
        "]\n",
        "\n",
        "data = remove_nulls(data, columns_to_check)\n"
      ],
      "metadata": {
        "id": "zrmCv1Hb_qSf"
      },
      "execution_count": 34,
      "outputs": []
    },
    {
      "cell_type": "markdown",
      "source": [
        "\n",
        "\n",
        "**3. Convert data**"
      ],
      "metadata": {
        "id": "D4ILTVnGLOn4"
      }
    },
    {
      "cell_type": "code",
      "source": [
        "def convert_columns(data, conversions):\n",
        "    for column, dtype in conversions.items():\n",
        "        if column in data.columns:\n",
        "            data[column] = data[column].astype(dtype)\n",
        "    return data\n",
        "\n",
        "# Penggunaan:\n",
        "conversions = {\n",
        "    \"Harga\": float,\n",
        "    \"LuasTanah\": int,\n",
        "    \"LuasBangunan\": int,\n",
        "    \"JumlahKamarTidur\": int,\n",
        "    \"JumlahKamarMandi\": int,\n",
        "    \"Garasi\": str,\n",
        "    \"Kota\": str\n",
        "}\n",
        "\n",
        "data = convert_columns(data, conversions)\n",
        "\n",
        "print(data.head())"
      ],
      "metadata": {
        "colab": {
          "base_uri": "https://localhost:8080/"
        },
        "id": "yYT47LdcKgtj",
        "outputId": "cca85cd7-8586-4685-986f-8948afb97b98"
      },
      "execution_count": 40,
      "outputs": [
        {
          "output_type": "stream",
          "name": "stdout",
          "text": [
            "          Harga  LuasTanah  LuasBangunan  JumlahKamarTidur  JumlahKamarMandi  \\\n",
            "1  2.800000e+10       1100           700                 5                 6   \n",
            "2  1.900000e+10        824           800                 4                 4   \n",
            "3  4.700000e+09        500           400                 4                 3   \n",
            "4  4.900000e+09        251           300                 5                 4   \n",
            "5  2.800000e+10       1340           575                 4                 5   \n",
            "\n",
            "  Garasi    Kota  \n",
            "1    ADA  JAKSEL  \n",
            "2    ADA  JAKSEL  \n",
            "3    ADA  JAKSEL  \n",
            "4    ADA  JAKSEL  \n",
            "5    ADA  JAKSEL  \n"
          ]
        }
      ]
    },
    {
      "cell_type": "markdown",
      "source": [
        "**4. Export clean dataset**"
      ],
      "metadata": {
        "id": "E2cuzwLzMsko"
      }
    },
    {
      "cell_type": "code",
      "source": [
        "from IPython.display import FileLink\n",
        "\n",
        "# Fungsi untuk menyimpan dataset ke file CSV\n",
        "def export_cleaned_data(data, output_file):\n",
        "    data.to_csv(output_file, index=False)\n",
        "\n",
        "# Nama file untuk disimpan\n",
        "output_file = \"HARGA RUMAH JAKSEL_clean.csv\"\n",
        "\n",
        "# Simpan dataset yang telah dibersihkan\n",
        "export_cleaned_data(data, output_file)\n",
        "\n",
        "# Buat tautan untuk mendownload file\n",
        "display(FileLink(output_file))\n",
        "\n",
        "# Menampilkan hasil\n",
        "print(updated_data.head())"
      ],
      "metadata": {
        "colab": {
          "base_uri": "https://localhost:8080/",
          "height": 271
        },
        "id": "ucr2DVBGMc_N",
        "outputId": "7c727ac6-6677-4be7-b34a-cd442f8d10b9"
      },
      "execution_count": 47,
      "outputs": [
        {
          "output_type": "display_data",
          "data": {
            "text/plain": [
              "/content/HARGA RUMAH JAKSEL_clean.csv"
            ],
            "text/html": [
              "<a href='HARGA RUMAH JAKSEL_clean.csv' target='_blank'>HARGA RUMAH JAKSEL_clean.csv</a><br>"
            ]
          },
          "metadata": {}
        },
        {
          "output_type": "stream",
          "name": "stdout",
          "text": [
            "          Harga  LuasTanah  LuasBangunan  JumlahKamarTidur  JumlahKamarMandi  \\\n",
            "0  2.800000e+10       1100           700                 5                 6   \n",
            "1  1.900000e+10        824           800                 4                 4   \n",
            "2  4.700000e+09        500           400                 4                 3   \n",
            "3  4.900000e+09        251           300                 5                 4   \n",
            "4  2.800000e+10       1340           575                 4                 5   \n",
            "\n",
            "  Garasi    Kota  \n",
            "0    ADA  JAKSEL  \n",
            "1    ADA  JAKSEL  \n",
            "2    ADA  JAKSEL  \n",
            "3    ADA  JAKSEL  \n",
            "4    ADA  JAKSEL  \n"
          ]
        }
      ]
    }
  ]
}